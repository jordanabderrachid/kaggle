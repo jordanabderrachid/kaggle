{
 "cells": [
  {
   "cell_type": "code",
   "execution_count": null,
   "metadata": {},
   "outputs": [],
   "source": [
    "import pandas as pd\n",
    "import torch.nn as nn\n",
    "import torch\n",
    "from torch.utils.data import Dataset, DataLoader"
   ]
  },
  {
   "cell_type": "code",
   "execution_count": null,
   "metadata": {},
   "outputs": [],
   "source": [
    "df = pd.read_csv(\"train.csv\")\n",
    "features = [\"Pclass\", \"Sex\", \"Age\", \"Survived\"]\n",
    "\n",
    "train_df = df[features]\n",
    "train_df.loc[:, \"Sex\"].replace({\"male\": 0, \"female\": 1}).astype(int)\n",
    "train_df.loc[:, \"Pclass\"] -= 1\n",
    "\n",
    "train_df.loc[:, \"age_present\"] = False\n",
    "train_df.loc[train_df[\"Age\"].isnull() == False, \"age_present\"] = True\n",
    "train_df.loc[train_df[\"age_present\"] == False, \"Age\"] = train_df.loc[train_df[\"age_present\"] == True, \"Age\"].mean()\n",
    "train_df.loc[:, \"age_present\"] = train_df[\"age_present\"].astype(float)\n",
    "\n",
    "train_df.loc[:, \"age_normalized\"] = (train_df.loc[:, \"Age\"] - train_df[\"Age\"].mean()) / train_df[\"Age\"].std()\n"
   ]
  },
  {
   "cell_type": "code",
   "execution_count": null,
   "metadata": {},
   "outputs": [],
   "source": [
    "class TitanicDataset(Dataset):\n",
    "    def __init__(self, path):\n",
    "        df = pd.read_csv(path)\n",
    "        features = [\"Pclass\", \"Sex\", \"Survived\", \"Age\"]\n",
    "\n",
    "        df = df[features]\n",
    "        df[\"Sex\"] = df[\"Sex\"].replace({\"male\": 0, \"female\": 1}).astype(int)\n",
    "        df.loc[:, \"Pclass\"] -= 1\n",
    "\n",
    "        df.loc[:, \"age_present\"] = False\n",
    "        df.loc[df[\"Age\"].isnull() == False, \"age_present\"] = True\n",
    "        df.loc[df[\"age_present\"] == False, \"Age\"] = df.loc[df[\"age_present\"] == True, \"Age\"].mean()\n",
    "        df.loc[:, \"age_present\"] = df[\"age_present\"].astype(float)\n",
    "\n",
    "        df.loc[:, \"age_normalized\"] = (df.loc[:, \"Age\"] - df[\"Age\"].mean()) / df[\"Age\"].std()\n",
    "\n",
    "        self.df = df\n",
    "\n",
    "    def __len__(self):\n",
    "        return self.df.shape[0]\n",
    "\n",
    "    def __getitem__(self, index):\n",
    "        row = self.df.iloc[index]\n",
    "        # print(row[[\"Pclass\", \"Sex\", \"age_normalized\", \"age_present\"]].values)\n",
    "        return torch.tensor(row[[\"Pclass\", \"Sex\", \"age_normalized\", \"age_present\"]].values).long(), torch.tensor(row[\"Survived\"]).long()"
   ]
  },
  {
   "cell_type": "code",
   "execution_count": null,
   "metadata": {},
   "outputs": [],
   "source": [
    "ds = TitanicDataset(\"train.csv\")\n",
    "dl = DataLoader(ds, batch_size=64, shuffle=True)"
   ]
  },
  {
   "cell_type": "code",
   "execution_count": null,
   "metadata": {},
   "outputs": [],
   "source": [
    "class Model(nn.Module):\n",
    "    def __init__(self):\n",
    "        super().__init__()\n",
    "        self.p_class_embed = nn.Embedding(num_embeddings=3, embedding_dim=60)\n",
    "        self.sex_embed = nn.Embedding(num_embeddings=2, embedding_dim=60)\n",
    "        self.stack = nn.Sequential(\n",
    "            nn.Linear(120+2, 10),\n",
    "            nn.ReLU(),\n",
    "            nn.Linear(10, 2)\n",
    "        )\n",
    "\n",
    "    def forward(self, x):\n",
    "        x = torch.concat((self.p_class_embed(x[:, 0].int()), self.sex_embed(x[:, 1].int()), x[:, 2].unsqueeze(1), x[:, 3].unsqueeze(1)), dim=1)\n",
    "        logits = self.stack(x)\n",
    "        return logits"
   ]
  },
  {
   "cell_type": "code",
   "execution_count": null,
   "metadata": {},
   "outputs": [],
   "source": [
    "def train(dataloader, model, loss_fn, optimizer):\n",
    "    model.train()\n",
    "    for _, (X, y) in enumerate(dataloader):\n",
    "        pred = model(X)\n",
    "        loss = loss_fn(pred, y)\n",
    "\n",
    "        loss.backward()\n",
    "        optimizer.step()\n",
    "        optimizer.zero_grad()\n",
    "\n",
    "        print(loss.item())"
   ]
  },
  {
   "cell_type": "code",
   "execution_count": null,
   "metadata": {},
   "outputs": [],
   "source": [
    "def test(dataloader, model):\n",
    "    size = len(dataloader.dataset)\n",
    "    model.eval()\n",
    "    correct = 0\n",
    "    with torch.no_grad():\n",
    "        for X, y in dataloader:\n",
    "            pred = model(X)\n",
    "            correct += (pred.argmax(1) == y).to(torch.int).sum().item()\n",
    "    print(correct, size)\n",
    "    correct /= size\n",
    "    print(f\"Accuracy: {(100*correct):>0.1f}%\\n\")"
   ]
  },
  {
   "cell_type": "code",
   "execution_count": null,
   "metadata": {},
   "outputs": [],
   "source": [
    "model = Model()"
   ]
  },
  {
   "cell_type": "code",
   "execution_count": null,
   "metadata": {},
   "outputs": [],
   "source": [
    "loss_fn = nn.CrossEntropyLoss()\n",
    "optimizer = torch.optim.SGD(model.parameters(), lr=1e-3)\n",
    "\n",
    "epochs = 100\n",
    "for t in range(epochs):\n",
    "    print(f\"Epoch {t+1}\\n-------------------------------\")\n",
    "    train(dl, model, loss_fn, optimizer)\n",
    "print(\"Done!\")\n"
   ]
  },
  {
   "cell_type": "code",
   "execution_count": null,
   "metadata": {},
   "outputs": [],
   "source": [
    "test(dl, model)"
   ]
  },
  {
   "cell_type": "code",
   "execution_count": null,
   "metadata": {},
   "outputs": [],
   "source": [
    "test_df = pd.read_csv(\"test.csv\")\n",
    "features = [\"Pclass\", \"Sex\"]\n",
    "# test_df = test_df[features]\n",
    "test_df[\"Sex\"] = test_df[\"Sex\"].replace({\"male\": 0, \"female\": 1}).astype(int)\n",
    "test_df.loc[:, \"Pclass\"] -= 1\n",
    "X_test = torch.tensor(test_df[[\"Pclass\", \"Sex\"]].values)\n",
    "y_test = model(X_test).argmax(1)\n",
    "\n",
    "test_df[\"Survived\"] = y_test"
   ]
  },
  {
   "cell_type": "code",
   "execution_count": null,
   "metadata": {},
   "outputs": [],
   "source": [
    "test_df\n",
    "test_df.to_csv(\"submission_neuralnet.csv\", columns=[\"PassengerId\", \"Survived\"], index=False)"
   ]
  }
 ],
 "metadata": {
  "kernelspec": {
   "display_name": "Python 3",
   "language": "python",
   "name": "python3"
  },
  "language_info": {
   "codemirror_mode": {
    "name": "ipython",
    "version": 3
   },
   "file_extension": ".py",
   "mimetype": "text/x-python",
   "name": "python",
   "nbconvert_exporter": "python",
   "pygments_lexer": "ipython3",
   "version": "3.11.5"
  }
 },
 "nbformat": 4,
 "nbformat_minor": 2
}
