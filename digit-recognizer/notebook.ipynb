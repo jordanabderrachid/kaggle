{
 "cells": [
  {
   "cell_type": "code",
   "execution_count": null,
   "metadata": {},
   "outputs": [],
   "source": [
    "! kaggle competitions download -c digit-recognizer"
   ]
  },
  {
   "cell_type": "code",
   "execution_count": null,
   "metadata": {},
   "outputs": [],
   "source": [
    "! pip install pandas matplotlib torchvision"
   ]
  },
  {
   "cell_type": "code",
   "execution_count": 142,
   "metadata": {},
   "outputs": [],
   "source": [
    "import torch"
   ]
  },
  {
   "cell_type": "code",
   "execution_count": 143,
   "metadata": {},
   "outputs": [
    {
     "name": "stdout",
     "output_type": "stream",
     "text": [
      "using device: cuda\n"
     ]
    }
   ],
   "source": [
    "device = torch.device('cuda' if torch.cuda.is_available() else 'cpu')\n",
    "print(\"using device:\", device)"
   ]
  },
  {
   "cell_type": "code",
   "execution_count": 144,
   "metadata": {},
   "outputs": [],
   "source": [
    "from torch.utils.data import Dataset\n",
    "import pandas as pd\n",
    "\n",
    "class DigitDataset(Dataset):\n",
    "    def __init__(self, path):\n",
    "        super().__init__()\n",
    "        df = pd.read_csv(path)\n",
    "        self.y = torch.tensor(df.loc[:, \"label\"])\n",
    "\n",
    "        X = df.loc[:, df.columns != \"label\"]\n",
    "        X[\"combined\"] = X.apply(lambda x: x.tolist(), axis=1)\n",
    "        self.X = torch.tensor(X[\"combined\"]).view((-1, 28, 28)).float() / 255\n",
    "        self.X = self.X.unsqueeze(1)\n",
    "        \n",
    "    def __len__(self):\n",
    "        return self.y.shape[0]\n",
    "\n",
    "    def __getitem__(self, idx):\n",
    "        return self.X[idx], self.y[idx]"
   ]
  },
  {
   "cell_type": "code",
   "execution_count": 145,
   "metadata": {},
   "outputs": [
    {
     "data": {
      "text/plain": [
       "(40000, 2000)"
      ]
     },
     "execution_count": 145,
     "metadata": {},
     "output_type": "execute_result"
    }
   ],
   "source": [
    "from torch.utils.data import random_split\n",
    "\n",
    "dataset = DigitDataset(\"train.csv\")\n",
    "valid_size = 2000\n",
    "train_size = len(dataset) - valid_size\n",
    "\n",
    "train_ds, valid_ds = random_split(dataset, [train_size, valid_size])\n",
    "len(train_ds), len(valid_ds)"
   ]
  },
  {
   "cell_type": "code",
   "execution_count": 146,
   "metadata": {},
   "outputs": [],
   "source": [
    "from torch.utils.data import DataLoader\n",
    "\n",
    "train_dl = DataLoader(train_ds, batch_size=64, shuffle=True)\n",
    "valid_dl = DataLoader(valid_ds, batch_size=64, shuffle=True)"
   ]
  },
  {
   "cell_type": "code",
   "execution_count": 154,
   "metadata": {},
   "outputs": [],
   "source": [
    "import torch.nn as nn\n",
    "from torchvision.transforms.v2 import RandomRotation\n",
    "\n",
    "class Model(nn.Module):\n",
    "    def __init__(self):\n",
    "        super().__init__()\n",
    "        self.layers = nn.Sequential(\n",
    "            nn.Conv2d(in_channels=1, out_channels=6, kernel_size=3), # (B, 1, 28, 28) -> (B, 6, 26, 26)\n",
    "            nn.ReLU(),\n",
    "            nn.Conv2d(in_channels=6, out_channels=12, kernel_size=5), # (B, 6, 26, 26) -> (B, 12, 22, 22)\n",
    "            nn.ReLU(),\n",
    "            nn.Conv2d(in_channels=12, out_channels=24, kernel_size=7), # (B, 12, 22, 22) -> (B, 24, 16, 16)\n",
    "            nn.ReLU(),\n",
    "            nn.Conv2d(in_channels=24, out_channels=48, kernel_size=7), # (B, 24, 16, 16) -> (B, 48, 10, 10)\n",
    "            nn.ReLU(),\n",
    "            nn.Conv2d(in_channels=48, out_channels=96, kernel_size=10), # (B, 48, 10, 10) -> (B, 96, 1, 1)\n",
    "            nn.ReLU(),\n",
    "            nn.Flatten(), # (B, 96, 1, 1) -> (B, 96),\n",
    "            nn.Linear(in_features=96, out_features=50),\n",
    "            nn.ReLU(),\n",
    "            nn.Linear(in_features=50, out_features=10) # (B, 96) -> (B, 10)\n",
    "        )\n",
    "        self.rotate = RandomRotation(10)\n",
    "\n",
    "    def forward(self, x):\n",
    "        if self.training:\n",
    "            x = self.rotate(x)\n",
    "        return self.layers(x)"
   ]
  },
  {
   "cell_type": "code",
   "execution_count": 148,
   "metadata": {},
   "outputs": [],
   "source": [
    "def test(dataloader, model, loss_fn):\n",
    "    loss_b = []\n",
    "    correct = 0\n",
    "    size = len(dataloader.dataset)\n",
    "\n",
    "    model.eval()\n",
    "    with torch.no_grad():\n",
    "        for X, y in dataloader:\n",
    "            X, y = X.to(device), y.to(device)\n",
    "            pred = model(X)\n",
    "            loss = loss_fn(pred, y)\n",
    "            loss_b.append(loss.item())\n",
    "            correct += (pred.argmax(1) == y).view(-1).int().sum().item()\n",
    "    \n",
    "    return (torch.tensor(loss_b).mean().item(), correct / size)"
   ]
  },
  {
   "cell_type": "code",
   "execution_count": 149,
   "metadata": {},
   "outputs": [],
   "source": [
    "def train(dataloader, model, loss_fn, optimizer):\n",
    "    model.train()\n",
    "    for X, y in dataloader:\n",
    "        X, y = X.to(device), y.to(device)\n",
    "        pred = model(X)\n",
    "        loss = loss_fn(pred, y)\n",
    "\n",
    "        loss.backward()\n",
    "\n",
    "        optimizer.step()\n",
    "        optimizer.zero_grad()"
   ]
  },
  {
   "cell_type": "code",
   "execution_count": 161,
   "metadata": {},
   "outputs": [
    {
     "name": "stdout",
     "output_type": "stream",
     "text": [
      "538760\n"
     ]
    }
   ],
   "source": [
    "model = Model().to(device)\n",
    "num_params = sum(p.numel() for p in model.parameters() if p.requires_grad)\n",
    "print(num_params)"
   ]
  },
  {
   "cell_type": "code",
   "execution_count": 162,
   "metadata": {},
   "outputs": [
    {
     "name": "stdout",
     "output_type": "stream",
     "text": [
      "epoch:  1\n",
      "train:  (0.15324538946151733, 0.952825)\n",
      "test:  (0.1485752910375595, 0.957)\n",
      "epoch:  2\n",
      "train:  (0.0717848390340805, 0.97765)\n",
      "test:  (0.08283387124538422, 0.9745)\n",
      "epoch:  3\n",
      "train:  (0.10396996140480042, 0.967975)\n",
      "test:  (0.10656264424324036, 0.9665)\n",
      "epoch:  4\n",
      "train:  (0.04296287149190903, 0.98625)\n",
      "test:  (0.05648387596011162, 0.984)\n",
      "epoch:  5\n",
      "train:  (0.030190905556082726, 0.990725)\n",
      "test:  (0.046370524913072586, 0.986)\n",
      "epoch:  6\n",
      "train:  (0.02525605633854866, 0.991425)\n",
      "test:  (0.0542823001742363, 0.9875)\n",
      "epoch:  7\n",
      "train:  (0.0198944341391325, 0.99375)\n",
      "test:  (0.03762726113200188, 0.989)\n",
      "epoch:  8\n",
      "train:  (0.017786337062716484, 0.993875)\n",
      "test:  (0.041523441672325134, 0.988)\n",
      "epoch:  9\n",
      "train:  (0.013524062000215054, 0.99595)\n",
      "test:  (0.05939139798283577, 0.986)\n",
      "epoch:  10\n",
      "train:  (0.011063151992857456, 0.996275)\n",
      "test:  (0.04791059345006943, 0.9865)\n",
      "epoch:  11\n",
      "train:  (0.009521272964775562, 0.99725)\n",
      "test:  (0.073545902967453, 0.985)\n",
      "epoch:  12\n",
      "train:  (0.013989133760333061, 0.995625)\n",
      "test:  (0.039824943989515305, 0.991)\n",
      "epoch:  13\n",
      "train:  (0.01073962077498436, 0.9968)\n",
      "test:  (0.041655778884887695, 0.9925)\n",
      "epoch:  14\n",
      "train:  (0.008557814173400402, 0.9974)\n",
      "test:  (0.04960303753614426, 0.9865)\n",
      "epoch:  15\n",
      "train:  (0.008497142232954502, 0.997475)\n",
      "test:  (0.06020545959472656, 0.9875)\n",
      "epoch:  16\n",
      "train:  (0.00542885297909379, 0.9984)\n",
      "test:  (0.03767811879515648, 0.9925)\n",
      "epoch:  17\n",
      "train:  (0.004979628603905439, 0.99855)\n",
      "test:  (0.04905594140291214, 0.991)\n"
     ]
    }
   ],
   "source": [
    "for epoch in range(17):\n",
    "    epoch += 1\n",
    "    # lr = max(1e-6, 10**(-epoch))\n",
    "    lr = 10**(-1.2)\n",
    "    train(train_dl, model, nn.CrossEntropyLoss(), torch.optim.SGD(model.parameters(), lr=lr))\n",
    "    print(\"epoch: \", epoch)\n",
    "    print(\"train: \", test(train_dl, model, nn.CrossEntropyLoss()))\n",
    "    print(\"test: \", test(valid_dl, model, nn.CrossEntropyLoss()))"
   ]
  },
  {
   "cell_type": "code",
   "execution_count": 74,
   "metadata": {},
   "outputs": [],
   "source": [
    "lrei = []\n",
    "lossi = []\n",
    "loss_fn = nn.CrossEntropyLoss()\n",
    "for lre in torch.linspace(-2, -0.7, 500).tolist():\n",
    "    optimizer = torch.optim.SGD(model.parameters(), lr=10**(lre))\n",
    "    X, y = next(iter(train_dl))\n",
    "    X, y = X.to(device), y.to(device)\n",
    "\n",
    "    pred = model(X)\n",
    "    loss = loss_fn(pred, y)\n",
    "    lrei.append(lre)\n",
    "    lossi.append(loss.item())\n",
    "\n",
    "    loss.backward()\n",
    "\n",
    "    optimizer.step()\n",
    "    optimizer.zero_grad()\n",
    "    \n"
   ]
  },
  {
   "cell_type": "code",
   "execution_count": 75,
   "metadata": {},
   "outputs": [
    {
     "data": {
      "image/png": "[encoded data removed]",
      "text/plain": [
       "<Figure size 640x480 with 1 Axes>"
      ]
     },
     "metadata": {},
     "output_type": "display_data"
    }
   ],
   "source": [
    "import matplotlib.pyplot as plt\n",
    "\n",
    "plt.plot(lrei, lossi)\n",
    "plt.show()"
   ]
  },
  {
   "cell_type": "code",
   "execution_count": 163,
   "metadata": {},
   "outputs": [],
   "source": [
    "torch.save(model, \"model.pth\")"
   ]
  },
  {
   "cell_type": "code",
   "execution_count": 164,
   "metadata": {},
   "outputs": [],
   "source": [
    "from torch.utils.data import Dataset\n",
    "import pandas as pd\n",
    "\n",
    "class DigitTestDataset(Dataset):\n",
    "    def __init__(self, path):\n",
    "        super().__init__()\n",
    "        df = pd.read_csv(path)\n",
    "        row_count = len(df)\n",
    "        self.y = torch.ones((row_count,))\n",
    "\n",
    "        X = df.loc[:, df.columns != \"label\"]\n",
    "        X[\"combined\"] = X.apply(lambda x: x.tolist(), axis=1)\n",
    "        self.X = torch.tensor(X[\"combined\"]).view((-1, 28, 28)).float() / 255\n",
    "        self.X = self.X.unsqueeze(1)\n",
    "        \n",
    "    def __len__(self):\n",
    "        return self.y.shape[0]\n",
    "\n",
    "    def __getitem__(self, idx):\n",
    "        return self.X[idx], self.y[idx]"
   ]
  },
  {
   "cell_type": "code",
   "execution_count": 165,
   "metadata": {},
   "outputs": [],
   "source": [
    "test_ds = DigitTestDataset(\"test.csv\")"
   ]
  },
  {
   "cell_type": "code",
   "execution_count": 166,
   "metadata": {},
   "outputs": [],
   "source": [
    "test_dl = DataLoader(test_ds, batch_size=64, shuffle=False)"
   ]
  },
  {
   "cell_type": "code",
   "execution_count": 167,
   "metadata": {},
   "outputs": [],
   "source": [
    "def infer(dataloader, model):\n",
    "    model.eval()\n",
    "    with torch.no_grad():\n",
    "        res = []\n",
    "        for X, _ in dataloader:\n",
    "            X = X.to(device)\n",
    "            pred = model(X)\n",
    "            res.append(pred.argmax(1))\n",
    "        return torch.cat(res, dim=0)"
   ]
  },
  {
   "cell_type": "code",
   "execution_count": 168,
   "metadata": {},
   "outputs": [],
   "source": [
    "indexes = torch.linspace(1, 28000, 28000).int()\n",
    "results = infer(test_dl, model)\n",
    "data = {\n",
    "    \"ImageId\": indexes.cpu(),\n",
    "    \"Label\": results.cpu()\n",
    "}\n",
    "submission = pd.DataFrame(data)"
   ]
  },
  {
   "cell_type": "code",
   "execution_count": 169,
   "metadata": {},
   "outputs": [],
   "source": [
    "submission.to_csv(\"submission.csv\", index=False)"
   ]
  }
 ],
 "metadata": {
  "kernelspec": {
   "display_name": "Python 3 (ipykernel)",
   "language": "python",
   "name": "python3"
  },
  "language_info": {
   "codemirror_mode": {
    "name": "ipython",
    "version": 3
   },
   "file_extension": ".py",
   "mimetype": "text/x-python",
   "name": "python",
   "nbconvert_exporter": "python",
   "pygments_lexer": "ipython3",
   "version": "3.10.13"
  }
 },
 "nbformat": 4,
 "nbformat_minor": 4
}
